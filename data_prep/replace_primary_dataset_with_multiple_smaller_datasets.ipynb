{
 "cells": [
  {
   "cell_type": "markdown",
   "metadata": {},
   "source": [
    "# Replace Primary Dataset with Multiple Smaller Datasets"
   ]
  },
  {
   "cell_type": "markdown",
   "metadata": {},
   "source": [
    "## Import Requirements"
   ]
  },
  {
   "cell_type": "code",
   "execution_count": 1,
   "metadata": {},
   "outputs": [],
   "source": [
    "import numpy as np\n",
    "import pandas as pd\n",
    "import os"
   ]
  },
  {
   "cell_type": "markdown",
   "metadata": {},
   "source": [
    "## Read in Dataset"
   ]
  },
  {
   "cell_type": "code",
   "execution_count": 2,
   "metadata": {},
   "outputs": [
    {
     "data": {
      "text/plain": [
       "['home_value_data.csv']"
      ]
     },
     "execution_count": 2,
     "metadata": {},
     "output_type": "execute_result"
    }
   ],
   "source": [
    "os.listdir('../datasets')"
   ]
  },
  {
   "cell_type": "code",
   "execution_count": 3,
   "metadata": {},
   "outputs": [
    {
     "data": {
      "text/html": [
       "<div>\n",
       "<style scoped>\n",
       "    .dataframe tbody tr th:only-of-type {\n",
       "        vertical-align: middle;\n",
       "    }\n",
       "\n",
       "    .dataframe tbody tr th {\n",
       "        vertical-align: top;\n",
       "    }\n",
       "\n",
       "    .dataframe thead th {\n",
       "        text-align: right;\n",
       "    }\n",
       "</style>\n",
       "<table border=\"1\" class=\"dataframe\">\n",
       "  <thead>\n",
       "    <tr style=\"text-align: right;\">\n",
       "      <th></th>\n",
       "      <th>zip_code</th>\n",
       "      <th>city</th>\n",
       "      <th>state</th>\n",
       "      <th>metro</th>\n",
       "      <th>county</th>\n",
       "      <th>date</th>\n",
       "      <th>value</th>\n",
       "    </tr>\n",
       "  </thead>\n",
       "  <tbody>\n",
       "    <tr>\n",
       "      <th>0</th>\n",
       "      <td>60657</td>\n",
       "      <td>Chicago</td>\n",
       "      <td>IL</td>\n",
       "      <td>Chicago-Naperville-Elgin</td>\n",
       "      <td>Cook County</td>\n",
       "      <td>1996-04</td>\n",
       "      <td>334200.0</td>\n",
       "    </tr>\n",
       "    <tr>\n",
       "      <th>1</th>\n",
       "      <td>60657</td>\n",
       "      <td>Chicago</td>\n",
       "      <td>IL</td>\n",
       "      <td>Chicago-Naperville-Elgin</td>\n",
       "      <td>Cook County</td>\n",
       "      <td>1996-05</td>\n",
       "      <td>335400.0</td>\n",
       "    </tr>\n",
       "    <tr>\n",
       "      <th>2</th>\n",
       "      <td>60657</td>\n",
       "      <td>Chicago</td>\n",
       "      <td>IL</td>\n",
       "      <td>Chicago-Naperville-Elgin</td>\n",
       "      <td>Cook County</td>\n",
       "      <td>1996-06</td>\n",
       "      <td>336500.0</td>\n",
       "    </tr>\n",
       "    <tr>\n",
       "      <th>3</th>\n",
       "      <td>60657</td>\n",
       "      <td>Chicago</td>\n",
       "      <td>IL</td>\n",
       "      <td>Chicago-Naperville-Elgin</td>\n",
       "      <td>Cook County</td>\n",
       "      <td>1996-07</td>\n",
       "      <td>337600.0</td>\n",
       "    </tr>\n",
       "    <tr>\n",
       "      <th>4</th>\n",
       "      <td>60657</td>\n",
       "      <td>Chicago</td>\n",
       "      <td>IL</td>\n",
       "      <td>Chicago-Naperville-Elgin</td>\n",
       "      <td>Cook County</td>\n",
       "      <td>1996-08</td>\n",
       "      <td>338500.0</td>\n",
       "    </tr>\n",
       "  </tbody>\n",
       "</table>\n",
       "</div>"
      ],
      "text/plain": [
       "   zip_code     city state                     metro       county     date  \\\n",
       "0     60657  Chicago    IL  Chicago-Naperville-Elgin  Cook County  1996-04   \n",
       "1     60657  Chicago    IL  Chicago-Naperville-Elgin  Cook County  1996-05   \n",
       "2     60657  Chicago    IL  Chicago-Naperville-Elgin  Cook County  1996-06   \n",
       "3     60657  Chicago    IL  Chicago-Naperville-Elgin  Cook County  1996-07   \n",
       "4     60657  Chicago    IL  Chicago-Naperville-Elgin  Cook County  1996-08   \n",
       "\n",
       "      value  \n",
       "0  334200.0  \n",
       "1  335400.0  \n",
       "2  336500.0  \n",
       "3  337600.0  \n",
       "4  338500.0  "
      ]
     },
     "execution_count": 3,
     "metadata": {},
     "output_type": "execute_result"
    }
   ],
   "source": [
    "df = pd.read_csv('../datasets/home_value_data.csv')\n",
    "df.head()"
   ]
  },
  {
   "cell_type": "code",
   "execution_count": 4,
   "metadata": {
    "scrolled": true
   },
   "outputs": [
    {
     "name": "stdout",
     "output_type": "stream",
     "text": [
      "<class 'pandas.core.frame.DataFrame'>\n",
      "RangeIndex: 4202944 entries, 0 to 4202943\n",
      "Data columns (total 7 columns):\n",
      " #   Column    Dtype  \n",
      "---  ------    -----  \n",
      " 0   zip_code  int64  \n",
      " 1   city      object \n",
      " 2   state     object \n",
      " 3   metro     object \n",
      " 4   county    object \n",
      " 5   date      object \n",
      " 6   value     float64\n",
      "dtypes: float64(1), int64(1), object(5)\n",
      "memory usage: 224.5+ MB\n"
     ]
    }
   ],
   "source": [
    "df.info()"
   ]
  },
  {
   "cell_type": "markdown",
   "metadata": {},
   "source": [
    "## Convert Necessary Data Types"
   ]
  },
  {
   "cell_type": "code",
   "execution_count": 5,
   "metadata": {},
   "outputs": [],
   "source": [
    "df.zip_code = df.zip_code.astype(str)"
   ]
  },
  {
   "cell_type": "markdown",
   "metadata": {},
   "source": [
    "## Separate Primary Dataset Into Smaller Datasets"
   ]
  },
  {
   "cell_type": "code",
   "execution_count": 6,
   "metadata": {},
   "outputs": [],
   "source": [
    "# Create lists for new dataset names, and starting and ending points for indexing\n",
    "dfs = []\n",
    "start = []\n",
    "end = []\n",
    "\n",
    "for i in range(0, len(df), 500000):\n",
    "    x, y = i, (i + 500001)\n",
    "    start.append(x)\n",
    "    end.append(y)\n",
    "    new_df = 'df_' + str(y)\n",
    "    dfs.append(new_df)"
   ]
  },
  {
   "cell_type": "code",
   "execution_count": 7,
   "metadata": {},
   "outputs": [
    {
     "name": "stdout",
     "output_type": "stream",
     "text": [
      "['df_500001', 'df_1000001', 'df_1500001', 'df_2000001', 'df_2500001', 'df_3000001', 'df_3500001', 'df_4000001', 'df_4500001']\n",
      "[0, 500000, 1000000, 1500000, 2000000, 2500000, 3000000, 3500000, 4000000]\n",
      "[500001, 1000001, 1500001, 2000001, 2500001, 3000001, 3500001, 4000001, 4500001]\n"
     ]
    }
   ],
   "source": [
    "# Confirm success\n",
    "print(dfs)\n",
    "print(start)\n",
    "print(end)"
   ]
  },
  {
   "cell_type": "code",
   "execution_count": 8,
   "metadata": {},
   "outputs": [],
   "source": [
    "# Convert DataFrame names from string format in the dfs list into variable names and assign them to the new DataFrames by slicing\n",
    "# the primary DataFrame using the start and end points defined in the start and end lists\n",
    "for i in range(0, len(dfs)):\n",
    "    temp_var = dfs[i]\n",
    "    item = exec(temp_var + '= df[start[i]: end[i]]')"
   ]
  },
  {
   "cell_type": "code",
   "execution_count": 9,
   "metadata": {},
   "outputs": [],
   "source": [
    "# Create a list of the new DataFrames to confirm success and save to CSV files to be imported into PostgreSQL\n",
    "list_of_new_dfs = [df_500001, df_1000001, df_1500001, df_2000001, df_2500001, df_3000001, df_3500001, df_4000001, df_4500001]"
   ]
  },
  {
   "cell_type": "code",
   "execution_count": 10,
   "metadata": {},
   "outputs": [
    {
     "name": "stdout",
     "output_type": "stream",
     "text": [
      "[       zip_code     city state                        metro         county  \\\n",
      "0         60657  Chicago    IL     Chicago-Naperville-Elgin    Cook County   \n",
      "1         60657  Chicago    IL     Chicago-Naperville-Elgin    Cook County   \n",
      "2         60657  Chicago    IL     Chicago-Naperville-Elgin    Cook County   \n",
      "3         60657  Chicago    IL     Chicago-Naperville-Elgin    Cook County   \n",
      "4         60657  Chicago    IL     Chicago-Naperville-Elgin    Cook County   \n",
      "...         ...      ...   ...                          ...            ...   \n",
      "499996    75075    Plano    TX  Dallas-Fort Worth-Arlington  Collin County   \n",
      "499997    75075    Plano    TX  Dallas-Fort Worth-Arlington  Collin County   \n",
      "499998    75075    Plano    TX  Dallas-Fort Worth-Arlington  Collin County   \n",
      "499999    75075    Plano    TX  Dallas-Fort Worth-Arlington  Collin County   \n",
      "500000    75075    Plano    TX  Dallas-Fort Worth-Arlington  Collin County   \n",
      "\n",
      "           date     value  \n",
      "0       1996-04  334200.0  \n",
      "1       1996-05  335400.0  \n",
      "2       1996-06  336500.0  \n",
      "3       1996-07  337600.0  \n",
      "4       1996-08  338500.0  \n",
      "...         ...       ...  \n",
      "499996  2001-04  158700.0  \n",
      "499997  2001-05  158600.0  \n",
      "499998  2001-06  158600.0  \n",
      "499999  2001-07  158700.0  \n",
      "500000  2001-08  159000.0  \n",
      "\n",
      "[500001 rows x 7 columns],         zip_code       city state                        metro  \\\n",
      "500000     75075      Plano    TX  Dallas-Fort Worth-Arlington   \n",
      "500001     75075      Plano    TX  Dallas-Fort Worth-Arlington   \n",
      "500002     75075      Plano    TX  Dallas-Fort Worth-Arlington   \n",
      "500003     75075      Plano    TX  Dallas-Fort Worth-Arlington   \n",
      "500004     75075      Plano    TX  Dallas-Fort Worth-Arlington   \n",
      "...          ...        ...   ...                          ...   \n",
      "999996     92124  San Diego    CA           San Diego-Carlsbad   \n",
      "999997     92124  San Diego    CA           San Diego-Carlsbad   \n",
      "999998     92124  San Diego    CA           San Diego-Carlsbad   \n",
      "999999     92124  San Diego    CA           San Diego-Carlsbad   \n",
      "1000000    92124  San Diego    CA           San Diego-Carlsbad   \n",
      "\n",
      "                   county     date     value  \n",
      "500000      Collin County  2001-08  159000.0  \n",
      "500001      Collin County  2001-09  159400.0  \n",
      "500002      Collin County  2001-10  159900.0  \n",
      "500003      Collin County  2001-11  160500.0  \n",
      "500004      Collin County  2001-12  161100.0  \n",
      "...                   ...      ...       ...  \n",
      "999996   San Diego County  2006-08  652200.0  \n",
      "999997   San Diego County  2006-09  647400.0  \n",
      "999998   San Diego County  2006-10  643100.0  \n",
      "999999   San Diego County  2006-11  639100.0  \n",
      "1000000  San Diego County  2006-12  635000.0  \n",
      "\n",
      "[500001 rows x 7 columns],         zip_code         city state                      metro  \\\n",
      "1000000    92124    San Diego    CA         San Diego-Carlsbad   \n",
      "1000001    92124    San Diego    CA         San Diego-Carlsbad   \n",
      "1000002    92124    San Diego    CA         San Diego-Carlsbad   \n",
      "1000003    92124    San Diego    CA         San Diego-Carlsbad   \n",
      "1000004    92124    San Diego    CA         San Diego-Carlsbad   \n",
      "...          ...          ...   ...                        ...   \n",
      "1499996    21158  Westminster    MD  Baltimore-Columbia-Towson   \n",
      "1499997    21158  Westminster    MD  Baltimore-Columbia-Towson   \n",
      "1499998    21158  Westminster    MD  Baltimore-Columbia-Towson   \n",
      "1499999    21158  Westminster    MD  Baltimore-Columbia-Towson   \n",
      "1500000    21158  Westminster    MD  Baltimore-Columbia-Towson   \n",
      "\n",
      "                   county     date     value  \n",
      "1000000  San Diego County  2006-12  635000.0  \n",
      "1000001  San Diego County  2007-01  630600.0  \n",
      "1000002  San Diego County  2007-02  625200.0  \n",
      "1000003  San Diego County  2007-03  618900.0  \n",
      "1000004  San Diego County  2007-04  611600.0  \n",
      "...                   ...      ...       ...  \n",
      "1499996    Carroll County  2011-12  241300.0  \n",
      "1499997    Carroll County  2012-01  240600.0  \n",
      "1499998    Carroll County  2012-02  240600.0  \n",
      "1499999    Carroll County  2012-03  241500.0  \n",
      "1500000    Carroll County  2012-04  242000.0  \n",
      "\n",
      "[500001 rows x 7 columns],         zip_code         city state                      metro  \\\n",
      "1500000    21158  Westminster    MD  Baltimore-Columbia-Towson   \n",
      "1500001    21158  Westminster    MD  Baltimore-Columbia-Towson   \n",
      "1500002    21158  Westminster    MD  Baltimore-Columbia-Towson   \n",
      "1500003    21158  Westminster    MD  Baltimore-Columbia-Towson   \n",
      "1500004    21158  Westminster    MD  Baltimore-Columbia-Towson   \n",
      "...          ...          ...   ...                        ...   \n",
      "1999996    99611        Kenai    AK                        NaN   \n",
      "1999997    99611        Kenai    AK                        NaN   \n",
      "1999998    99611        Kenai    AK                        NaN   \n",
      "1999999    99611        Kenai    AK                        NaN   \n",
      "2000000    99611        Kenai    AK                        NaN   \n",
      "\n",
      "                          county     date     value  \n",
      "1500000           Carroll County  2012-04  242000.0  \n",
      "1500001           Carroll County  2012-05  241400.0  \n",
      "1500002           Carroll County  2012-06  240600.0  \n",
      "1500003           Carroll County  2012-07  240500.0  \n",
      "1500004           Carroll County  2012-08  241000.0  \n",
      "...                          ...      ...       ...  \n",
      "1999996  Kenai Peninsula Borough  2017-04  229500.0  \n",
      "1999997  Kenai Peninsula Borough  2017-05  233100.0  \n",
      "1999998  Kenai Peninsula Borough  2017-06  236500.0  \n",
      "1999999  Kenai Peninsula Borough  2017-07  237800.0  \n",
      "2000000  Kenai Peninsula Borough  2017-08  238100.0  \n",
      "\n",
      "[500001 rows x 7 columns],         zip_code          city state     metro                   county  \\\n",
      "2000000    99611         Kenai    AK       NaN  Kenai Peninsula Borough   \n",
      "2000001    99611         Kenai    AK       NaN  Kenai Peninsula Borough   \n",
      "2000002    99611         Kenai    AK       NaN  Kenai Peninsula Borough   \n",
      "2000003    99611         Kenai    AK       NaN  Kenai Peninsula Borough   \n",
      "2000004    99611         Kenai    AK       NaN  Kenai Peninsula Borough   \n",
      "...          ...           ...   ...       ...                      ...   \n",
      "2499996    54140  Little Chute    WI  Appleton         Outagamie County   \n",
      "2499997    54140  Little Chute    WI  Appleton         Outagamie County   \n",
      "2499998    54140  Little Chute    WI  Appleton         Outagamie County   \n",
      "2499999    54140  Little Chute    WI  Appleton         Outagamie County   \n",
      "2500000    54140  Little Chute    WI  Appleton         Outagamie County   \n",
      "\n",
      "            date     value  \n",
      "2000000  2017-08  238100.0  \n",
      "2000001  2017-09  238200.0  \n",
      "2000002  2017-10  238400.0  \n",
      "2000003  2017-11  238500.0  \n",
      "2000004  2017-12  238300.0  \n",
      "...          ...       ...  \n",
      "2499996  1999-12  102000.0  \n",
      "2499997  2000-01  102000.0  \n",
      "2499998  2000-02  102100.0  \n",
      "2499999  2000-03  102100.0  \n",
      "2500000  2000-04  102200.0  \n",
      "\n",
      "[500001 rows x 7 columns],         zip_code          city state                    metro  \\\n",
      "2500000    54140  Little Chute    WI                 Appleton   \n",
      "2500001    54140  Little Chute    WI                 Appleton   \n",
      "2500002    54140  Little Chute    WI                 Appleton   \n",
      "2500003    54140  Little Chute    WI                 Appleton   \n",
      "2500004    54140  Little Chute    WI                 Appleton   \n",
      "...          ...           ...   ...                      ...   \n",
      "2999996    98251      Gold Bar    WA  Seattle-Tacoma-Bellevue   \n",
      "2999997    98251      Gold Bar    WA  Seattle-Tacoma-Bellevue   \n",
      "2999998    98251      Gold Bar    WA  Seattle-Tacoma-Bellevue   \n",
      "2999999    98251      Gold Bar    WA  Seattle-Tacoma-Bellevue   \n",
      "3000000    98251      Gold Bar    WA  Seattle-Tacoma-Bellevue   \n",
      "\n",
      "                   county     date     value  \n",
      "2500000  Outagamie County  2000-04  102200.0  \n",
      "2500001  Outagamie County  2000-05  102300.0  \n",
      "2500002  Outagamie County  2000-06  102400.0  \n",
      "2500003  Outagamie County  2000-07  102500.0  \n",
      "2500004  Outagamie County  2000-08  102700.0  \n",
      "...                   ...      ...       ...  \n",
      "2999996  Snohomish County  2005-04  193200.0  \n",
      "2999997  Snohomish County  2005-05  195600.0  \n",
      "2999998  Snohomish County  2005-06  198300.0  \n",
      "2999999  Snohomish County  2005-07  201300.0  \n",
      "3000000  Snohomish County  2005-08  204400.0  \n",
      "\n",
      "[500001 rows x 7 columns],         zip_code      city state                    metro            county  \\\n",
      "3000000    98251  Gold Bar    WA  Seattle-Tacoma-Bellevue  Snohomish County   \n",
      "3000001    98251  Gold Bar    WA  Seattle-Tacoma-Bellevue  Snohomish County   \n",
      "3000002    98251  Gold Bar    WA  Seattle-Tacoma-Bellevue  Snohomish County   \n",
      "3000003    98251  Gold Bar    WA  Seattle-Tacoma-Bellevue  Snohomish County   \n",
      "3000004    98251  Gold Bar    WA  Seattle-Tacoma-Bellevue  Snohomish County   \n",
      "...          ...       ...   ...                      ...               ...   \n",
      "3499996    77702  Beaumont    TX     Beaumont-Port Arthur  Jefferson County   \n",
      "3499997    77702  Beaumont    TX     Beaumont-Port Arthur  Jefferson County   \n",
      "3499998    77702  Beaumont    TX     Beaumont-Port Arthur  Jefferson County   \n",
      "3499999    77702  Beaumont    TX     Beaumont-Port Arthur  Jefferson County   \n",
      "3500000    77702  Beaumont    TX     Beaumont-Port Arthur  Jefferson County   \n",
      "\n",
      "            date     value  \n",
      "3000000  2005-08  204400.0  \n",
      "3000001  2005-09  207400.0  \n",
      "3000002  2005-10  210200.0  \n",
      "3000003  2005-11  212600.0  \n",
      "3000004  2005-12  214900.0  \n",
      "...          ...       ...  \n",
      "3499996  2010-08   86300.0  \n",
      "3499997  2010-09   85900.0  \n",
      "3499998  2010-10   85300.0  \n",
      "3499999  2010-11   84500.0  \n",
      "3500000  2010-12   84000.0  \n",
      "\n",
      "[500001 rows x 7 columns],         zip_code            city state                 metro  \\\n",
      "3500000    77702        Beaumont    TX  Beaumont-Port Arthur   \n",
      "3500001    77702        Beaumont    TX  Beaumont-Port Arthur   \n",
      "3500002    77702        Beaumont    TX  Beaumont-Port Arthur   \n",
      "3500003    77702        Beaumont    TX  Beaumont-Port Arthur   \n",
      "3500004    77702        Beaumont    TX  Beaumont-Port Arthur   \n",
      "...          ...             ...   ...                   ...   \n",
      "3999996    43045  Milford Center    OH              Columbus   \n",
      "3999997    43045  Milford Center    OH              Columbus   \n",
      "3999998    43045  Milford Center    OH              Columbus   \n",
      "3999999    43045  Milford Center    OH              Columbus   \n",
      "4000000    43045  Milford Center    OH              Columbus   \n",
      "\n",
      "                   county     date     value  \n",
      "3500000  Jefferson County  2010-12   84000.0  \n",
      "3500001  Jefferson County  2011-01   83900.0  \n",
      "3500002  Jefferson County  2011-02   84400.0  \n",
      "3500003  Jefferson County  2011-03   84600.0  \n",
      "3500004  Jefferson County  2011-04   83500.0  \n",
      "...                   ...      ...       ...  \n",
      "3999996      Union County  2015-12  131700.0  \n",
      "3999997      Union County  2016-01  131400.0  \n",
      "3999998      Union County  2016-02  131700.0  \n",
      "3999999      Union County  2016-03  133900.0  \n",
      "4000000      Union County  2016-04  136800.0  \n",
      "\n",
      "[500001 rows x 7 columns],         zip_code            city state                         metro  \\\n",
      "4000000    43045  Milford Center    OH                      Columbus   \n",
      "4000001    43045  Milford Center    OH                      Columbus   \n",
      "4000002    43045  Milford Center    OH                      Columbus   \n",
      "4000003    43045  Milford Center    OH                      Columbus   \n",
      "4000004    43045  Milford Center    OH                      Columbus   \n",
      "...          ...             ...   ...                           ...   \n",
      "4202939    89155        Mesquite    NV  Las Vegas-Henderson-Paradise   \n",
      "4202940    89155        Mesquite    NV  Las Vegas-Henderson-Paradise   \n",
      "4202941    89155        Mesquite    NV  Las Vegas-Henderson-Paradise   \n",
      "4202942    89155        Mesquite    NV  Las Vegas-Henderson-Paradise   \n",
      "4202943    89155        Mesquite    NV  Las Vegas-Henderson-Paradise   \n",
      "\n",
      "               county     date     value  \n",
      "4000000  Union County  2016-04  136800.0  \n",
      "4000001  Union County  2016-05  139800.0  \n",
      "4000002  Union County  2016-06  143700.0  \n",
      "4000003  Union County  2016-07  146700.0  \n",
      "4000004  Union County  2016-08  146600.0  \n",
      "...               ...      ...       ...  \n",
      "4202939  Clark County  2018-07  353400.0  \n",
      "4202940  Clark County  2018-08  356700.0  \n",
      "4202941  Clark County  2018-09  360200.0  \n",
      "4202942  Clark County  2018-10  364100.0  \n",
      "4202943  Clark County  2018-11  367600.0  \n",
      "\n",
      "[202944 rows x 7 columns]]\n"
     ]
    }
   ],
   "source": [
    "# Confirm success\n",
    "print(list_of_new_dfs)"
   ]
  },
  {
   "cell_type": "markdown",
   "metadata": {},
   "source": [
    "## Replace Original Primary Dataset with New Datasets"
   ]
  },
  {
   "cell_type": "code",
   "execution_count": 11,
   "metadata": {},
   "outputs": [],
   "source": [
    "# Include the loop iteration in each file's name\n",
    "n = 1\n",
    "\n",
    "for new_df in list_of_new_dfs:\n",
    "    new_df.to_csv('../datasets/home_value_data_' + str(n) + '.csv', index=False)\n",
    "    n += 1\n",
    "\n",
    "# Remove\n",
    "os.remove('../datasets/home_value_data.csv')"
   ]
  }
 ],
 "metadata": {
  "kernelspec": {
   "display_name": "Python 3",
   "language": "python",
   "name": "python3"
  },
  "language_info": {
   "codemirror_mode": {
    "name": "ipython",
    "version": 3
   },
   "file_extension": ".py",
   "mimetype": "text/x-python",
   "name": "python",
   "nbconvert_exporter": "python",
   "pygments_lexer": "ipython3",
   "version": "3.8.2"
  }
 },
 "nbformat": 4,
 "nbformat_minor": 4
}
